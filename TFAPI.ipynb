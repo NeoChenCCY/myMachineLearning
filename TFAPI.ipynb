{
  "nbformat": 4,
  "nbformat_minor": 0,
  "metadata": {
    "colab": {
      "provenance": []
    },
    "kernelspec": {
      "name": "python3",
      "display_name": "Python 3"
    },
    "language_info": {
      "name": "python"
    }
  },
  "cells": [
    {
      "cell_type": "code",
      "execution_count": 2,
      "metadata": {
        "id": "ep-wSeaMGBfY"
      },
      "outputs": [],
      "source": [
        "import numpy as np\n",
        "class MNISTLoader():\n",
        "  def __init__(self):\n",
        "    mnist = tf.keras.datasets.mnist\n",
        "    (self.train_data,self.trainn_label),(self.test_data,self.test_label) = mnist.load_data()\n",
        "    #mnist = tf.keras.datasets.mnist\n",
        "    #(training_images, training_labels), (test_images, test_labels) = mnist.load_data()\n",
        "\n",
        "    self.train_data = np.expand_dims(self.train_data.astype(np.float32) / 255.0,axis = -1)\n",
        "    self.test_data = np.expand_dims(self.test_data.astype(np.float32) / 255.0,axis = -1)\n",
        "    self.train_label = self.trainn_label.astype(np.int32)\n",
        "    self.test_label = self.test_label.astype(np.int32)\n",
        "\n",
        "    self.num_train_data, self.num_test_data = self.train_data.shape[0], self.test_data.shape[0]\n",
        "\n",
        "  def get_batch(self, batch_size):\n",
        "    index = np.random.randint(0, np.shape(self.train_data)[0], batch_size)\n",
        "\n",
        "    return self.train_data[index,:], self.trainn_label[index]"
      ]
    },
    {
      "cell_type": "code",
      "execution_count": 3,
      "metadata": {
        "id": "hgAt2vtNZExz"
      },
      "outputs": [],
      "source": [
        "import tensorflow as tf\n",
        "moel = tf.keras.models.Sequential([\n",
        "    tf.keras.layers.Flatten(),\n",
        "    tf.keras.layers.Dense(100,activation=tf.nn.relu),\n",
        "    tf.keras.layers.Dense(10),\n",
        "    tf.keras.layers.Softmax()\n",
        "\n",
        "])"
      ]
    },
    {
      "cell_type": "code",
      "source": [
        "from keras.api._v2.keras import Input\n",
        "inputs = tf.keras.Input(shape=(28,28,1))\n",
        "x = tf.keras.layers.Flatten()(inputs)\n",
        "x = tf.keras.layers.Dense(units=100,activation=tf.nn.relu)(x)\n",
        "x = tf.keras.layers.Dense(units=10)(x)\n",
        "outputs = tf.keras.layers.Softmax()(x)\n",
        "\n",
        "model = tf.keras.Model(inputs=inputs,outputs=outputs)"
      ],
      "metadata": {
        "id": "6C474gJwu4N1"
      },
      "execution_count": 4,
      "outputs": []
    },
    {
      "cell_type": "code",
      "source": [
        "import keras\n",
        "model.compile(\n",
        "    optimizer=tf.keras.optimizers.Adam(learning_rate=0.001),\n",
        "    loss = tf.keras.losses.sparse_categorical_crossentropy,\n",
        "    metrics=[tf.keras.metrics.sparse_categorical_accuracy]\n",
        ")"
      ],
      "metadata": {
        "id": "JGnCLnP4xRA7"
      },
      "execution_count": 5,
      "outputs": []
    },
    {
      "cell_type": "code",
      "source": [
        "data_loader = MNISTLoader()\n",
        "#參數\n",
        "num_epochs = 5\n",
        "batch_size = 50\n",
        "learning_rate = 0.001\n",
        "model.fit(data_loader.train_data, data_loader.train_label,epochs=num_epochs,batch_size=batch_size)\n",
        "\n",
        "print(model.evaluate(data_loader.test_data,data_loader.test_label))"
      ],
      "metadata": {
        "colab": {
          "base_uri": "https://localhost:8080/"
        },
        "id": "osAVJv1iz1fL",
        "outputId": "be17af9d-f17d-4449-a1ed-8e330e6cdb00"
      },
      "execution_count": 6,
      "outputs": [
        {
          "output_type": "stream",
          "name": "stdout",
          "text": [
            "Downloading data from https://storage.googleapis.com/tensorflow/tf-keras-datasets/mnist.npz\n",
            "11490434/11490434 [==============================] - 0s 0us/step\n",
            "Epoch 1/5\n",
            "1200/1200 [==============================] - 11s 7ms/step - loss: 0.2950 - sparse_categorical_accuracy: 0.9174\n",
            "Epoch 2/5\n",
            "1200/1200 [==============================] - 6s 5ms/step - loss: 0.1403 - sparse_categorical_accuracy: 0.9595\n",
            "Epoch 3/5\n",
            "1200/1200 [==============================] - 5s 4ms/step - loss: 0.1009 - sparse_categorical_accuracy: 0.9708\n",
            "Epoch 4/5\n",
            "1200/1200 [==============================] - 6s 5ms/step - loss: 0.0779 - sparse_categorical_accuracy: 0.9766\n",
            "Epoch 5/5\n",
            "1200/1200 [==============================] - 5s 4ms/step - loss: 0.0627 - sparse_categorical_accuracy: 0.9814\n",
            "313/313 [==============================] - 1s 2ms/step - loss: 0.0844 - sparse_categorical_accuracy: 0.9744\n",
            "[0.08439905941486359, 0.974399983882904]\n"
          ]
        }
      ]
    },
    {
      "cell_type": "markdown",
      "source": [
        "**儲存模型數值**\n",
        "tf.saved_model.save(model, '/path/to/save/model')\n",
        "\n",
        "**載入模型數據**\n",
        "loaded_model = tf.saved_model.load('/path/to/saved/model')"
      ],
      "metadata": {
        "id": "EZEa923tbCgG"
      }
    }
  ]
}