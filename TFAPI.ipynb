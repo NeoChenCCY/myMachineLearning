{
  "nbformat": 4,
  "nbformat_minor": 0,
  "metadata": {
    "colab": {
      "provenance": []
    },
    "kernelspec": {
      "name": "python3",
      "display_name": "Python 3"
    },
    "language_info": {
      "name": "python"
    }
  },
  "cells": [
    {
      "cell_type": "code",
      "execution_count": 14,
      "metadata": {
        "id": "ep-wSeaMGBfY"
      },
      "outputs": [],
      "source": [
        "import numpy as np\n",
        "class MNISTLoader():\n",
        "  def __init__(self):\n",
        "    mnist = tf.keras.datasets.mnist\n",
        "    (self.train_data,self.trainn_label),(self.test_data,self.test_label) = mnist.load_data()\n",
        "    #mnist = tf.keras.datasets.mnist\n",
        "    #(training_images, training_labels), (test_images, test_labels) = mnist.load_data()\n",
        "\n",
        "    self.train_data = np.expand_dims(self.train_data.astype(np.float32) / 255.0,axis = -1)\n",
        "    self.test_data = np.expand_dims(self.test_data.astype(np.float32) / 255.0,axis = -1)\n",
        "    self.train_label = self.trainn_label.astype(np.int32)\n",
        "    self.test_label = self.test_label.astype(np.int32)\n",
        "\n",
        "    self.num_train_data, self.num_test_data = self.train_data.shape[0], self.test_data.shape[0]\n",
        "\n",
        "  def get_batch(self, batch_size):\n",
        "    index = np.random.randint(0, np.shape(self.train_data)[0], batch_size)\n",
        "\n",
        "    return self.train_data[index,:], self.trainn_label[index]"
      ]
    },
    {
      "cell_type": "code",
      "execution_count": 7,
      "metadata": {
        "id": "hgAt2vtNZExz"
      },
      "outputs": [],
      "source": [
        "import tensorflow as tf\n",
        "moel = tf.keras.models.Sequential([\n",
        "    tf.keras.layers.Flatten(),\n",
        "    tf.keras.layers.Dense(100,activation=tf.nn.relu),\n",
        "    tf.keras.layers.Dense(10),\n",
        "    tf.keras.layers.Softmax()\n",
        "\n",
        "])"
      ]
    },
    {
      "cell_type": "code",
      "source": [
        "from keras.api._v2.keras import Input\n",
        "inputs = tf.keras.Input(shape=(28,28,1))\n",
        "x = tf.keras.layers.Flatten()(inputs)\n",
        "x = tf.keras.layers.Dense(units=100,activation=tf.nn.relu)(x)\n",
        "x = tf.keras.layers.Dense(units=10)(x)\n",
        "outputs = tf.keras.layers.Softmax()(x)\n",
        "\n",
        "model = tf.keras.Model(inputs=inputs,outputs=outputs)"
      ],
      "metadata": {
        "id": "6C474gJwu4N1"
      },
      "execution_count": 8,
      "outputs": []
    },
    {
      "cell_type": "code",
      "source": [
        "import keras\n",
        "model.compile(\n",
        "    optimizer=tf.keras.optimizers.Adam(learning_rate=0.001),\n",
        "    loss = tf.keras.losses.sparse_categorical_crossentropy,\n",
        "    metrics=[tf.keras.metrics.sparse_categorical_accuracy]\n",
        ")"
      ],
      "metadata": {
        "id": "JGnCLnP4xRA7"
      },
      "execution_count": 12,
      "outputs": []
    },
    {
      "cell_type": "code",
      "source": [
        "data_loader = MNISTLoader()\n",
        "#參數\n",
        "num_epochs = 5\n",
        "batch_size = 50\n",
        "learning_rate = 0.001\n",
        "model.fit(data_loader.train_data, data_loader.train_label,epochs=num_epochs,batch_size=batch_size)\n",
        "\n",
        "print(model.evaluate(data_loader.test_data,data_loader.test_label))"
      ],
      "metadata": {
        "colab": {
          "base_uri": "https://localhost:8080/"
        },
        "id": "osAVJv1iz1fL",
        "outputId": "51b9a1b7-e3b7-432e-c6ab-69f104a9d15f"
      },
      "execution_count": 19,
      "outputs": [
        {
          "output_type": "stream",
          "name": "stdout",
          "text": [
            "Epoch 1/5\n",
            "1200/1200 [==============================] - 4s 3ms/step - loss: 0.0487 - sparse_categorical_accuracy: 0.9848\n",
            "Epoch 2/5\n",
            "1200/1200 [==============================] - 5s 4ms/step - loss: 0.0404 - sparse_categorical_accuracy: 0.9878\n",
            "Epoch 3/5\n",
            "1200/1200 [==============================] - 4s 4ms/step - loss: 0.0328 - sparse_categorical_accuracy: 0.9903\n",
            "Epoch 4/5\n",
            "1200/1200 [==============================] - 4s 3ms/step - loss: 0.0267 - sparse_categorical_accuracy: 0.9925\n",
            "Epoch 5/5\n",
            "1200/1200 [==============================] - 5s 4ms/step - loss: 0.0232 - sparse_categorical_accuracy: 0.9931\n",
            "313/313 [==============================] - 1s 2ms/step - loss: 0.0763 - sparse_categorical_accuracy: 0.9779\n",
            "[0.0763406977057457, 0.9779000282287598]\n"
          ]
        }
      ]
    }
  ]
}